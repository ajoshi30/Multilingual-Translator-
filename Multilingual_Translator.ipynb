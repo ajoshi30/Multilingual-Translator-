{
  "nbformat": 4,
  "nbformat_minor": 0,
  "metadata": {
    "colab": {
      "provenance": []
    },
    "kernelspec": {
      "name": "python3",
      "display_name": "Python 3"
    },
    "language_info": {
      "name": "python"
    }
  },
  "cells": [
    {
      "cell_type": "code",
      "execution_count": 2,
      "metadata": {
        "colab": {
          "base_uri": "https://localhost:8080/",
          "height": 663
        },
        "id": "vQwzP31sYpGK",
        "outputId": "8b79324a-a145-469a-f381-67a50a87fcc7"
      },
      "outputs": [
        {
          "output_type": "stream",
          "name": "stderr",
          "text": [
            "Device set to use cpu\n"
          ]
        },
        {
          "output_type": "stream",
          "name": "stdout",
          "text": [
            "It looks like you are running Gradio on a hosted a Jupyter notebook. For the Gradio app to work, sharing must be enabled. Automatically setting `share=True` (you can turn this off by setting `share=False` in `launch()` explicitly).\n",
            "\n",
            "Colab notebook detected. To show errors in colab notebook, set debug=True in launch()\n",
            "* Running on public URL: https://65ddcc61ca17e78294.gradio.live\n",
            "\n",
            "This share link expires in 1 week. For free permanent hosting and GPU upgrades, run `gradio deploy` from the terminal in the working directory to deploy to Hugging Face Spaces (https://huggingface.co/spaces)\n"
          ]
        },
        {
          "output_type": "display_data",
          "data": {
            "text/plain": [
              "<IPython.core.display.HTML object>"
            ],
            "text/html": [
              "<div><iframe src=\"https://65ddcc61ca17e78294.gradio.live\" width=\"100%\" height=\"500\" allow=\"autoplay; camera; microphone; clipboard-read; clipboard-write;\" frameborder=\"0\" allowfullscreen></iframe></div>"
            ]
          },
          "metadata": {}
        },
        {
          "output_type": "execute_result",
          "data": {
            "text/plain": []
          },
          "metadata": {},
          "execution_count": 2
        }
      ],
      "source": [
        "import torch\n",
        "import gradio as gr\n",
        "from transformers import pipeline\n",
        "import json\n",
        "\n",
        "# Step 1: Define language map directly (no need for separate file)\n",
        "language_data = [\n",
        "  {\"Language\": \"Afrikaans\", \"FLORES-200 code\": \"afr_Latn\"},\n",
        "  {\"Language\": \"Amharic\", \"FLORES-200 code\": \"amh_Ethi\"},\n",
        "  {\"Language\": \"Arabic\", \"FLORES-200 code\": \"arb_Arab\"},\n",
        "  {\"Language\": \"Assamese\", \"FLORES-200 code\": \"asm_Beng\"},\n",
        "  {\"Language\": \"Azerbaijani\", \"FLORES-200 code\": \"azj_Latn\"},\n",
        "  {\"Language\": \"Bengali\", \"FLORES-200 code\": \"ben_Beng\"},\n",
        "  {\"Language\": \"Bhojpuri\", \"FLORES-200 code\": \"bho_Deva\"},\n",
        "  {\"Language\": \"Bulgarian\", \"FLORES-200 code\": \"bul_Cyrl\"},\n",
        "  {\"Language\": \"Catalan\", \"FLORES-200 code\": \"cat_Latn\"},\n",
        "  {\"Language\": \"Chinese (Simplified)\", \"FLORES-200 code\": \"zho_Hans\"},\n",
        "  {\"Language\": \"Chinese (Traditional)\", \"FLORES-200 code\": \"zho_Hant\"},\n",
        "  {\"Language\": \"Czech\", \"FLORES-200 code\": \"ces_Latn\"},\n",
        "  {\"Language\": \"Danish\", \"FLORES-200 code\": \"dan_Latn\"},\n",
        "  {\"Language\": \"Dutch\", \"FLORES-200 code\": \"nld_Latn\"},\n",
        "  {\"Language\": \"English\", \"FLORES-200 code\": \"eng_Latn\"},\n",
        "  {\"Language\": \"French\", \"FLORES-200 code\": \"fra_Latn\"},\n",
        "  {\"Language\": \"German\", \"FLORES-200 code\": \"deu_Latn\"},\n",
        "  {\"Language\": \"Greek\", \"FLORES-200 code\": \"ell_Grek\"},\n",
        "  {\"Language\": \"Gujarati\", \"FLORES-200 code\": \"guj_Gujr\"},\n",
        "  {\"Language\": \"Hebrew\", \"FLORES-200 code\": \"heb_Hebr\"},\n",
        "  {\"Language\": \"Hindi\", \"FLORES-200 code\": \"hin_Deva\"},\n",
        "  {\"Language\": \"Hungarian\", \"FLORES-200 code\": \"hun_Latn\"},\n",
        "  {\"Language\": \"Indonesian\", \"FLORES-200 code\": \"ind_Latn\"},\n",
        "  {\"Language\": \"Italian\", \"FLORES-200 code\": \"ita_Latn\"},\n",
        "  {\"Language\": \"Japanese\", \"FLORES-200 code\": \"jpn_Jpan\"},\n",
        "  {\"Language\": \"Kannada\", \"FLORES-200 code\": \"kan_Knda\"},\n",
        "  {\"Language\": \"Korean\", \"FLORES-200 code\": \"kor_Hang\"},\n",
        "  {\"Language\": \"Malayalam\", \"FLORES-200 code\": \"mal_Mlym\"},\n",
        "  {\"Language\": \"Marathi\", \"FLORES-200 code\": \"mar_Deva\"},\n",
        "  {\"Language\": \"Nepali\", \"FLORES-200 code\": \"npi_Deva\"},\n",
        "  {\"Language\": \"Persian\", \"FLORES-200 code\": \"pes_Arab\"},\n",
        "  {\"Language\": \"Polish\", \"FLORES-200 code\": \"pol_Latn\"},\n",
        "  {\"Language\": \"Portuguese\", \"FLORES-200 code\": \"por_Latn\"},\n",
        "  {\"Language\": \"Punjabi\", \"FLORES-200 code\": \"pan_Guru\"},\n",
        "  {\"Language\": \"Romanian\", \"FLORES-200 code\": \"ron_Latn\"},\n",
        "  {\"Language\": \"Russian\", \"FLORES-200 code\": \"rus_Cyrl\"},\n",
        "  {\"Language\": \"Sinhala\", \"FLORES-200 code\": \"sin_Sinh\"},\n",
        "  {\"Language\": \"Spanish\", \"FLORES-200 code\": \"spa_Latn\"},\n",
        "  {\"Language\": \"Tamil\", \"FLORES-200 code\": \"tam_Taml\"},\n",
        "  {\"Language\": \"Telugu\", \"FLORES-200 code\": \"tel_Telu\"},\n",
        "  {\"Language\": \"Thai\", \"FLORES-200 code\": \"tha_Thai\"},\n",
        "  {\"Language\": \"Turkish\", \"FLORES-200 code\": \"tur_Latn\"},\n",
        "  {\"Language\": \"Ukrainian\", \"FLORES-200 code\": \"ukr_Cyrl\"},\n",
        "  {\"Language\": \"Urdu\", \"FLORES-200 code\": \"urd_Arab\"},\n",
        "  {\"Language\": \"Vietnamese\", \"FLORES-200 code\": \"vie_Latn\"}\n",
        "]\n",
        "\n",
        "language_map = {entry[\"Language\"]: entry[\"FLORES-200 code\"] for entry in language_data}\n",
        "\n",
        "# Step 2: Load NLLB-200 pipeline\n",
        "text_translator = pipeline(\n",
        "    \"translation\",\n",
        "    model=\"facebook/nllb-200-distilled-600M\",\n",
        "    torch_dtype=torch.bfloat16,\n",
        "    device=0 if torch.cuda.is_available() else -1\n",
        ")\n",
        "\n",
        "# Step 3: Translation function\n",
        "def translate_text(text, destination_language):\n",
        "    dest_code = language_map.get(destination_language)\n",
        "    if not dest_code:\n",
        "        return f\"❌ Error: No FLORES-200 code for '{destination_language}'\"\n",
        "    try:\n",
        "        result = text_translator(text, src_lang=\"eng_Latn\", tgt_lang=dest_code)\n",
        "        return result[0][\"translation_text\"]\n",
        "    except Exception as e:\n",
        "        return f\"⚠️ Translation failed: {str(e)}\"\n",
        "\n",
        "# Step 4: Build Gradio UI\n",
        "gr.close_all()\n",
        "\n",
        "demo = gr.Interface(\n",
        "    fn=translate_text,\n",
        "    inputs=[\n",
        "        gr.Textbox(label=\"💬 English Input\", lines=6, placeholder=\"e.g., Welcome to our store! How can I help you?\"),\n",
        "        gr.Dropdown(choices=sorted(language_map.keys()), label=\"🌐 Translate To\")\n",
        "    ],\n",
        "    outputs=gr.Textbox(label=\"🗣️ Translated Output\", lines=4),\n",
        "    title=\"🧠 Inclusive Multilingual Chatbot | Powered by Meta NLLB\",\n",
        "    description=(\n",
        "        \"Translate any English text into over 40+ languages using Meta's NLLB-200. \"\n",
        "        \"Designed for inclusive virtual storefronts, in-store kiosks, and voice assistant integration. \"\n",
        "        \"🔈 Voice-ready | 🌍 44 Languages | ♿ Accessibility-first\"\n",
        "    ),\n",
        "    theme=\"soft\"\n",
        ")\n",
        "\n",
        "# Step 5: Launch App\n",
        "demo.launch()\n"
      ]
    },
    {
      "cell_type": "code",
      "source": [],
      "metadata": {
        "id": "J0-ZTubgYqXZ"
      },
      "execution_count": null,
      "outputs": []
    }
  ]
}